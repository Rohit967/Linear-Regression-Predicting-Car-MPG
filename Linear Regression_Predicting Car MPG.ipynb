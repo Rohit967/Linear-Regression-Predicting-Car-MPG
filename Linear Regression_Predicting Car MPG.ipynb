{
 "cells": [
  {
   "cell_type": "markdown",
   "metadata": {},
   "source": [
    "#                                    ML Assignment 2"
   ]
  },
  {
   "cell_type": "markdown",
   "metadata": {},
   "source": [
    "## S.Name : Ragavander Rohit Walthaty\n",
    "## S.ID : 999992844"
   ]
  },
  {
   "cell_type": "code",
   "execution_count": 1448,
   "metadata": {},
   "outputs": [],
   "source": [
    "# Importing the libraries\n",
    "import pandas as pd\n",
    "import matplotlib.pyplot as plt\n",
    "import numpy\n",
    "import warnings\n",
    "warnings.filterwarnings('ignore')"
   ]
  },
  {
   "cell_type": "markdown",
   "metadata": {},
   "source": [
    "### Load the data from the csv file using Pandas"
   ]
  },
  {
   "cell_type": "code",
   "execution_count": 1449,
   "metadata": {},
   "outputs": [],
   "source": [
    "auto = pd.read_csv('auto_mpg_data.csv') # Importing the dataset"
   ]
  },
  {
   "cell_type": "markdown",
   "metadata": {},
   "source": [
    "### Preview/print the top 10 rows of the data "
   ]
  },
  {
   "cell_type": "code",
   "execution_count": 1450,
   "metadata": {},
   "outputs": [
    {
     "data": {
      "text/html": [
       "<div>\n",
       "<style scoped>\n",
       "    .dataframe tbody tr th:only-of-type {\n",
       "        vertical-align: middle;\n",
       "    }\n",
       "\n",
       "    .dataframe tbody tr th {\n",
       "        vertical-align: top;\n",
       "    }\n",
       "\n",
       "    .dataframe thead th {\n",
       "        text-align: right;\n",
       "    }\n",
       "</style>\n",
       "<table border=\"1\" class=\"dataframe\">\n",
       "  <thead>\n",
       "    <tr style=\"text-align: right;\">\n",
       "      <th></th>\n",
       "      <th>model_name</th>\n",
       "      <th>mpg</th>\n",
       "      <th>cylinders</th>\n",
       "      <th>displacement</th>\n",
       "      <th>horsepower</th>\n",
       "      <th>weight</th>\n",
       "      <th>acceleration</th>\n",
       "      <th>model_year</th>\n",
       "      <th>origin</th>\n",
       "    </tr>\n",
       "  </thead>\n",
       "  <tbody>\n",
       "    <tr>\n",
       "      <th>0</th>\n",
       "      <td>chevrolet chevelle malibu</td>\n",
       "      <td>18.0</td>\n",
       "      <td>8</td>\n",
       "      <td>307.0</td>\n",
       "      <td>130</td>\n",
       "      <td>3504</td>\n",
       "      <td>12.0</td>\n",
       "      <td>70</td>\n",
       "      <td>1</td>\n",
       "    </tr>\n",
       "    <tr>\n",
       "      <th>1</th>\n",
       "      <td>buick skylark 320</td>\n",
       "      <td>15.0</td>\n",
       "      <td>8</td>\n",
       "      <td>350.0</td>\n",
       "      <td>165</td>\n",
       "      <td>3693</td>\n",
       "      <td>11.5</td>\n",
       "      <td>70</td>\n",
       "      <td>1</td>\n",
       "    </tr>\n",
       "    <tr>\n",
       "      <th>2</th>\n",
       "      <td>plymouth satellite</td>\n",
       "      <td>18.0</td>\n",
       "      <td>8</td>\n",
       "      <td>318.0</td>\n",
       "      <td>150</td>\n",
       "      <td>3436</td>\n",
       "      <td>11.0</td>\n",
       "      <td>70</td>\n",
       "      <td>1</td>\n",
       "    </tr>\n",
       "    <tr>\n",
       "      <th>3</th>\n",
       "      <td>amc rebel sst</td>\n",
       "      <td>16.0</td>\n",
       "      <td>8</td>\n",
       "      <td>304.0</td>\n",
       "      <td>150</td>\n",
       "      <td>3433</td>\n",
       "      <td>12.0</td>\n",
       "      <td>70</td>\n",
       "      <td>1</td>\n",
       "    </tr>\n",
       "    <tr>\n",
       "      <th>4</th>\n",
       "      <td>ford torino</td>\n",
       "      <td>17.0</td>\n",
       "      <td>8</td>\n",
       "      <td>302.0</td>\n",
       "      <td>140</td>\n",
       "      <td>3449</td>\n",
       "      <td>10.5</td>\n",
       "      <td>70</td>\n",
       "      <td>1</td>\n",
       "    </tr>\n",
       "    <tr>\n",
       "      <th>5</th>\n",
       "      <td>ford galaxie 500</td>\n",
       "      <td>15.0</td>\n",
       "      <td>8</td>\n",
       "      <td>429.0</td>\n",
       "      <td>198</td>\n",
       "      <td>4341</td>\n",
       "      <td>10.0</td>\n",
       "      <td>70</td>\n",
       "      <td>1</td>\n",
       "    </tr>\n",
       "    <tr>\n",
       "      <th>6</th>\n",
       "      <td>chevrolet impala</td>\n",
       "      <td>14.0</td>\n",
       "      <td>8</td>\n",
       "      <td>454.0</td>\n",
       "      <td>220</td>\n",
       "      <td>4354</td>\n",
       "      <td>9.0</td>\n",
       "      <td>70</td>\n",
       "      <td>1</td>\n",
       "    </tr>\n",
       "    <tr>\n",
       "      <th>7</th>\n",
       "      <td>plymouth fury iii</td>\n",
       "      <td>14.0</td>\n",
       "      <td>8</td>\n",
       "      <td>440.0</td>\n",
       "      <td>215</td>\n",
       "      <td>4312</td>\n",
       "      <td>8.5</td>\n",
       "      <td>70</td>\n",
       "      <td>1</td>\n",
       "    </tr>\n",
       "    <tr>\n",
       "      <th>8</th>\n",
       "      <td>pontiac catalina</td>\n",
       "      <td>14.0</td>\n",
       "      <td>8</td>\n",
       "      <td>455.0</td>\n",
       "      <td>225</td>\n",
       "      <td>4425</td>\n",
       "      <td>10.0</td>\n",
       "      <td>70</td>\n",
       "      <td>1</td>\n",
       "    </tr>\n",
       "    <tr>\n",
       "      <th>9</th>\n",
       "      <td>amc ambassador dpl</td>\n",
       "      <td>15.0</td>\n",
       "      <td>8</td>\n",
       "      <td>390.0</td>\n",
       "      <td>190</td>\n",
       "      <td>3850</td>\n",
       "      <td>8.5</td>\n",
       "      <td>70</td>\n",
       "      <td>1</td>\n",
       "    </tr>\n",
       "  </tbody>\n",
       "</table>\n",
       "</div>"
      ],
      "text/plain": [
       "                  model_name   mpg  cylinders  displacement  horsepower  \\\n",
       "0  chevrolet chevelle malibu  18.0          8         307.0         130   \n",
       "1          buick skylark 320  15.0          8         350.0         165   \n",
       "2         plymouth satellite  18.0          8         318.0         150   \n",
       "3              amc rebel sst  16.0          8         304.0         150   \n",
       "4                ford torino  17.0          8         302.0         140   \n",
       "5           ford galaxie 500  15.0          8         429.0         198   \n",
       "6           chevrolet impala  14.0          8         454.0         220   \n",
       "7          plymouth fury iii  14.0          8         440.0         215   \n",
       "8           pontiac catalina  14.0          8         455.0         225   \n",
       "9         amc ambassador dpl  15.0          8         390.0         190   \n",
       "\n",
       "   weight  acceleration  model_year  origin  \n",
       "0    3504          12.0          70       1  \n",
       "1    3693          11.5          70       1  \n",
       "2    3436          11.0          70       1  \n",
       "3    3433          12.0          70       1  \n",
       "4    3449          10.5          70       1  \n",
       "5    4341          10.0          70       1  \n",
       "6    4354           9.0          70       1  \n",
       "7    4312           8.5          70       1  \n",
       "8    4425          10.0          70       1  \n",
       "9    3850           8.5          70       1  "
      ]
     },
     "execution_count": 1450,
     "metadata": {},
     "output_type": "execute_result"
    }
   ],
   "source": [
    "auto.head(10)"
   ]
  },
  {
   "cell_type": "code",
   "execution_count": 1451,
   "metadata": {},
   "outputs": [
    {
     "data": {
      "text/plain": [
       "(392, 9)"
      ]
     },
     "execution_count": 1451,
     "metadata": {},
     "output_type": "execute_result"
    }
   ],
   "source": [
    "auto.shape"
   ]
  },
  {
   "cell_type": "code",
   "execution_count": 1452,
   "metadata": {},
   "outputs": [
    {
     "data": {
      "text/html": [
       "<div>\n",
       "<style scoped>\n",
       "    .dataframe tbody tr th:only-of-type {\n",
       "        vertical-align: middle;\n",
       "    }\n",
       "\n",
       "    .dataframe tbody tr th {\n",
       "        vertical-align: top;\n",
       "    }\n",
       "\n",
       "    .dataframe thead th {\n",
       "        text-align: right;\n",
       "    }\n",
       "</style>\n",
       "<table border=\"1\" class=\"dataframe\">\n",
       "  <thead>\n",
       "    <tr style=\"text-align: right;\">\n",
       "      <th></th>\n",
       "      <th>mpg</th>\n",
       "      <th>cylinders</th>\n",
       "      <th>displacement</th>\n",
       "      <th>horsepower</th>\n",
       "      <th>weight</th>\n",
       "      <th>acceleration</th>\n",
       "      <th>model_year</th>\n",
       "      <th>origin</th>\n",
       "    </tr>\n",
       "  </thead>\n",
       "  <tbody>\n",
       "    <tr>\n",
       "      <th>count</th>\n",
       "      <td>392.000000</td>\n",
       "      <td>392.000000</td>\n",
       "      <td>392.000000</td>\n",
       "      <td>392.000000</td>\n",
       "      <td>392.000000</td>\n",
       "      <td>392.000000</td>\n",
       "      <td>392.000000</td>\n",
       "      <td>392.000000</td>\n",
       "    </tr>\n",
       "    <tr>\n",
       "      <th>mean</th>\n",
       "      <td>23.445918</td>\n",
       "      <td>5.471939</td>\n",
       "      <td>194.411990</td>\n",
       "      <td>104.469388</td>\n",
       "      <td>2977.584184</td>\n",
       "      <td>15.541327</td>\n",
       "      <td>75.979592</td>\n",
       "      <td>1.576531</td>\n",
       "    </tr>\n",
       "    <tr>\n",
       "      <th>std</th>\n",
       "      <td>7.805007</td>\n",
       "      <td>1.705783</td>\n",
       "      <td>104.644004</td>\n",
       "      <td>38.491160</td>\n",
       "      <td>849.402560</td>\n",
       "      <td>2.758864</td>\n",
       "      <td>3.683737</td>\n",
       "      <td>0.805518</td>\n",
       "    </tr>\n",
       "    <tr>\n",
       "      <th>min</th>\n",
       "      <td>9.000000</td>\n",
       "      <td>3.000000</td>\n",
       "      <td>68.000000</td>\n",
       "      <td>46.000000</td>\n",
       "      <td>1613.000000</td>\n",
       "      <td>8.000000</td>\n",
       "      <td>70.000000</td>\n",
       "      <td>1.000000</td>\n",
       "    </tr>\n",
       "    <tr>\n",
       "      <th>25%</th>\n",
       "      <td>17.000000</td>\n",
       "      <td>4.000000</td>\n",
       "      <td>105.000000</td>\n",
       "      <td>75.000000</td>\n",
       "      <td>2225.250000</td>\n",
       "      <td>13.775000</td>\n",
       "      <td>73.000000</td>\n",
       "      <td>1.000000</td>\n",
       "    </tr>\n",
       "    <tr>\n",
       "      <th>50%</th>\n",
       "      <td>22.750000</td>\n",
       "      <td>4.000000</td>\n",
       "      <td>151.000000</td>\n",
       "      <td>93.500000</td>\n",
       "      <td>2803.500000</td>\n",
       "      <td>15.500000</td>\n",
       "      <td>76.000000</td>\n",
       "      <td>1.000000</td>\n",
       "    </tr>\n",
       "    <tr>\n",
       "      <th>75%</th>\n",
       "      <td>29.000000</td>\n",
       "      <td>8.000000</td>\n",
       "      <td>275.750000</td>\n",
       "      <td>126.000000</td>\n",
       "      <td>3614.750000</td>\n",
       "      <td>17.025000</td>\n",
       "      <td>79.000000</td>\n",
       "      <td>2.000000</td>\n",
       "    </tr>\n",
       "    <tr>\n",
       "      <th>max</th>\n",
       "      <td>46.600000</td>\n",
       "      <td>8.000000</td>\n",
       "      <td>455.000000</td>\n",
       "      <td>230.000000</td>\n",
       "      <td>5140.000000</td>\n",
       "      <td>24.800000</td>\n",
       "      <td>82.000000</td>\n",
       "      <td>3.000000</td>\n",
       "    </tr>\n",
       "  </tbody>\n",
       "</table>\n",
       "</div>"
      ],
      "text/plain": [
       "              mpg   cylinders  displacement  horsepower       weight  \\\n",
       "count  392.000000  392.000000    392.000000  392.000000   392.000000   \n",
       "mean    23.445918    5.471939    194.411990  104.469388  2977.584184   \n",
       "std      7.805007    1.705783    104.644004   38.491160   849.402560   \n",
       "min      9.000000    3.000000     68.000000   46.000000  1613.000000   \n",
       "25%     17.000000    4.000000    105.000000   75.000000  2225.250000   \n",
       "50%     22.750000    4.000000    151.000000   93.500000  2803.500000   \n",
       "75%     29.000000    8.000000    275.750000  126.000000  3614.750000   \n",
       "max     46.600000    8.000000    455.000000  230.000000  5140.000000   \n",
       "\n",
       "       acceleration  model_year      origin  \n",
       "count    392.000000  392.000000  392.000000  \n",
       "mean      15.541327   75.979592    1.576531  \n",
       "std        2.758864    3.683737    0.805518  \n",
       "min        8.000000   70.000000    1.000000  \n",
       "25%       13.775000   73.000000    1.000000  \n",
       "50%       15.500000   76.000000    1.000000  \n",
       "75%       17.025000   79.000000    2.000000  \n",
       "max       24.800000   82.000000    3.000000  "
      ]
     },
     "execution_count": 1452,
     "metadata": {},
     "output_type": "execute_result"
    }
   ],
   "source": [
    "auto.describe()"
   ]
  },
  {
   "cell_type": "code",
   "execution_count": 1453,
   "metadata": {
    "scrolled": true
   },
   "outputs": [
    {
     "name": "stdout",
     "output_type": "stream",
     "text": [
      "<class 'pandas.core.frame.DataFrame'>\n",
      "RangeIndex: 392 entries, 0 to 391\n",
      "Data columns (total 9 columns):\n",
      "model_name      392 non-null object\n",
      "mpg             392 non-null float64\n",
      "cylinders       392 non-null int64\n",
      "displacement    392 non-null float64\n",
      "horsepower      392 non-null int64\n",
      "weight          392 non-null int64\n",
      "acceleration    392 non-null float64\n",
      "model_year      392 non-null int64\n",
      "origin          392 non-null int64\n",
      "dtypes: float64(3), int64(5), object(1)\n",
      "memory usage: 27.6+ KB\n"
     ]
    }
   ],
   "source": [
    "auto.info()"
   ]
  },
  {
   "cell_type": "code",
   "execution_count": 1454,
   "metadata": {},
   "outputs": [
    {
     "data": {
      "text/plain": [
       "model_name      0\n",
       "mpg             0\n",
       "cylinders       0\n",
       "displacement    0\n",
       "horsepower      0\n",
       "weight          0\n",
       "acceleration    0\n",
       "model_year      0\n",
       "origin          0\n",
       "dtype: int64"
      ]
     },
     "execution_count": 1454,
     "metadata": {},
     "output_type": "execute_result"
    }
   ],
   "source": [
    "len(auto)-auto.count()"
   ]
  },
  {
   "cell_type": "markdown",
   "metadata": {},
   "source": [
    "### Create the Features matrix (columns 3-9 above – i.e. exclude the model_name and the mpg columns) "
   ]
  },
  {
   "cell_type": "code",
   "execution_count": 1455,
   "metadata": {},
   "outputs": [],
   "source": [
    "Features = auto.copy()\n",
    "Features = Features.drop('model_name',1)\n",
    "Features = Features.drop('mpg',1)"
   ]
  },
  {
   "cell_type": "code",
   "execution_count": 1456,
   "metadata": {},
   "outputs": [],
   "source": [
    "features_col=Features.columns"
   ]
  },
  {
   "cell_type": "markdown",
   "metadata": {},
   "source": [
    "### Create the Labels vector (the mpg column) "
   ]
  },
  {
   "cell_type": "code",
   "execution_count": 1457,
   "metadata": {},
   "outputs": [],
   "source": [
    "Labels = auto['mpg']"
   ]
  },
  {
   "cell_type": "markdown",
   "metadata": {},
   "source": [
    "### Plot the relationship between each of the features and the label mpg on a scatter chart. This will be a total of 7 charts."
   ]
  },
  {
   "cell_type": "code",
   "execution_count": 1458,
   "metadata": {},
   "outputs": [],
   "source": [
    "import matplotlib.pyplot as plt # importing plotting package for python"
   ]
  },
  {
   "cell_type": "code",
   "execution_count": 1459,
   "metadata": {
    "scrolled": true
   },
   "outputs": [
    {
     "data": {
      "image/png": "[encoded data removed]",
      "text/plain": [
       "<Figure size 432x360 with 1 Axes>"
      ]
     },
     "metadata": {
      "needs_background": "light"
     },
     "output_type": "display_data"
    }
   ],
   "source": [
    "# Scatter Plot Relationship between mpg and cylinder features Scatter Plot\n",
    "plt.figure(figsize=(6,5))\n",
    "plt.scatter(auto['cylinders'], auto['mpg'], color='orangered', marker='o')\n",
    "plt.title('Relationship')\n",
    "plt.xlabel('Cylinders') \n",
    "plt.ylabel('MPG')\n",
    "plt.show()"
   ]
  },
  {
   "cell_type": "code",
   "execution_count": 1460,
   "metadata": {},
   "outputs": [
    {
     "data": {
      "image/png": "[encoded data removed]",
      "text/plain": [
       "<Figure size 432x360 with 1 Axes>"
      ]
     },
     "metadata": {
      "needs_background": "light"
     },
     "output_type": "display_data"
    }
   ],
   "source": [
    "# Scatter Plot Relationship between mpg and displacement features Scatter Plot\n",
    "plt.figure(figsize=(6,5))\n",
    "plt.scatter(auto['displacement'], auto['mpg'], color='indigo', marker='*')\n",
    "plt.xlabel('Displacement') \n",
    "plt.ylabel('MPG')\n",
    "plt.title('Relationship')\n",
    "plt.show()"
   ]
  },
  {
   "cell_type": "code",
   "execution_count": 1461,
   "metadata": {},
   "outputs": [
    {
     "data": {
      "image/png": "[encoded data removed]",
      "text/plain": [
       "<Figure size 432x360 with 1 Axes>"
      ]
     },
     "metadata": {
      "needs_background": "light"
     },
     "output_type": "display_data"
    }
   ],
   "source": [
    "# Scatter Plot Relationship between mpg and horsepower features Scatter Plot\n",
    "plt.figure(figsize=(6,5))\n",
    "plt.scatter(auto['horsepower'], auto['mpg'], color='darkgreen', marker='*')\n",
    "plt.xlabel('Horsepower') \n",
    "plt.ylabel('MPG')\n",
    "plt.title('Relationship')\n",
    "plt.show()"
   ]
  },
  {
   "cell_type": "code",
   "execution_count": 1462,
   "metadata": {},
   "outputs": [
    {
     "data": {
      "image/png": "[encoded data removed]",
      "text/plain": [
       "<Figure size 432x360 with 1 Axes>"
      ]
     },
     "metadata": {
      "needs_background": "light"
     },
     "output_type": "display_data"
    }
   ],
   "source": [
    "# Scatter Plot Relationship between mpg and weight features Scatter Plot\n",
    "plt.figure(figsize=(6,5))\n",
    "plt.scatter(auto['weight'], auto['mpg'], color='maroon', marker='*')\n",
    "plt.xlabel('Weight') \n",
    "plt.ylabel('MPG')\n",
    "plt.title('Relationship')\n",
    "plt.show()"
   ]
  },
  {
   "cell_type": "code",
   "execution_count": 1463,
   "metadata": {},
   "outputs": [
    {
     "data": {
      "image/png": "[encoded data removed]",
      "text/plain": [
       "<Figure size 432x360 with 1 Axes>"
      ]
     },
     "metadata": {
      "needs_background": "light"
     },
     "output_type": "display_data"
    }
   ],
   "source": [
    "# Scatter Plot Relationship between mpg and acceleration features Scatter Plot\n",
    "plt.figure(figsize=(6,5))\n",
    "plt.scatter(auto['acceleration'], auto['mpg'], color='black', marker='*')\n",
    "plt.xlabel('Acceleration') \n",
    "plt.ylabel('MPG')\n",
    "plt.title('Relationship')\n",
    "plt.show()"
   ]
  },
  {
   "cell_type": "code",
   "execution_count": 1464,
   "metadata": {},
   "outputs": [
    {
     "data": {
      "image/png": "[encoded data removed]",
      "text/plain": [
       "<Figure size 432x360 with 1 Axes>"
      ]
     },
     "metadata": {
      "needs_background": "light"
     },
     "output_type": "display_data"
    }
   ],
   "source": [
    "# Scatter Plot Relationship between mpg and model_year features Scatter Plot\n",
    "plt.figure(figsize=(6,5))\n",
    "plt.scatter(auto['model_year'], auto['mpg'], color='darkviolet', marker='*')\n",
    "plt.xlabel('Model Year') \n",
    "plt.ylabel('MPG')\n",
    "plt.title('Relationship')\n",
    "plt.show()"
   ]
  },
  {
   "cell_type": "code",
   "execution_count": 1465,
   "metadata": {},
   "outputs": [
    {
     "data": {
      "image/png": "[encoded data removed]",
      "text/plain": [
       "<Figure size 432x360 with 1 Axes>"
      ]
     },
     "metadata": {
      "needs_background": "light"
     },
     "output_type": "display_data"
    }
   ],
   "source": [
    "# Scatter Plot Relationship between mpg and origin features Scatter Plot\n",
    "plt.figure(figsize=(6,5))\n",
    "plt.scatter(auto['origin'], auto['mpg'], color='chartreuse', marker='o')\n",
    "plt.xlabel('Origin') \n",
    "plt.ylabel('MPG')\n",
    "plt.title('Relationship: mpg vs origin')\n",
    "plt.show()"
   ]
  },
  {
   "cell_type": "markdown",
   "metadata": {},
   "source": [
    "### Normalize the features using the StandardScaler class of the sklearn.preprocessing package "
   ]
  },
  {
   "cell_type": "code",
   "execution_count": 1466,
   "metadata": {},
   "outputs": [
    {
     "data": {
      "text/plain": [
       "(392, 7)"
      ]
     },
     "execution_count": 1466,
     "metadata": {},
     "output_type": "execute_result"
    }
   ],
   "source": [
    "from sklearn.preprocessing import StandardScaler as ss\n",
    "scaler = ss()\n",
    "\n",
    "scaler.fit(Features)\n",
    "Features_scaled=scaler.fit_transform(Features)\n",
    "\n",
    "Features_scaled.shape"
   ]
  },
  {
   "cell_type": "markdown",
   "metadata": {},
   "source": [
    "### Split the data into training and test data using the cross_validation class of sklearn "
   ]
  },
  {
   "cell_type": "code",
   "execution_count": 1467,
   "metadata": {},
   "outputs": [],
   "source": [
    "from sklearn.model_selection import train_test_split"
   ]
  },
  {
   "cell_type": "code",
   "execution_count": 1468,
   "metadata": {},
   "outputs": [],
   "source": [
    "# Splitting the data into 80% training and 20% test.\n",
    "Features_train, Features_test, Labels_train, Labels_test = train_test_split(Features, Labels, test_size=0.2)"
   ]
  },
  {
   "cell_type": "markdown",
   "metadata": {},
   "source": [
    "### Train a regression model on the training subset using the SGDRegressor class of the sklearn.linear_models package. Set the number of iterations of the learner to be 500 iterations. Perform the training as follows: "
   ]
  },
  {
   "cell_type": "code",
   "execution_count": 1469,
   "metadata": {},
   "outputs": [],
   "source": [
    "from sklearn import linear_model as lm\n",
    "SGD_LR = lm.SGDRegressor(max_iter=500)"
   ]
  },
  {
   "cell_type": "markdown",
   "metadata": {},
   "source": [
    "### Train a model using one feature at a time. For example, train a model using the cylinders feature only, then train a model using the displacement feature only, and so on"
   ]
  },
  {
   "cell_type": "code",
   "execution_count": 1470,
   "metadata": {},
   "outputs": [
    {
     "data": {
      "text/plain": [
       "array([29.08636668, 29.08636668, 32.84571882, 29.08636668, 29.08636668,\n",
       "       29.08636668, 29.08636668, 32.84571882, 29.08636668, 29.08636668,\n",
       "       14.04895811, 29.08636668, 21.56766239, 29.08636668, 14.04895811,\n",
       "       29.08636668, 21.56766239, 29.08636668, 29.08636668, 29.08636668,\n",
       "       21.56766239, 29.08636668, 21.56766239, 14.04895811, 29.08636668,\n",
       "       29.08636668, 21.56766239, 21.56766239, 29.08636668, 14.04895811,\n",
       "       29.08636668, 21.56766239, 29.08636668, 29.08636668, 29.08636668,\n",
       "       14.04895811, 14.04895811, 29.08636668, 14.04895811, 21.56766239,\n",
       "       14.04895811, 29.08636668, 21.56766239, 14.04895811, 21.56766239,\n",
       "       29.08636668, 14.04895811, 29.08636668, 14.04895811, 21.56766239,\n",
       "       29.08636668, 21.56766239, 21.56766239, 29.08636668, 14.04895811,\n",
       "       29.08636668, 14.04895811, 21.56766239, 29.08636668, 21.56766239,\n",
       "       29.08636668, 14.04895811, 29.08636668, 21.56766239, 29.08636668,\n",
       "       14.04895811, 14.04895811, 29.08636668, 14.04895811, 29.08636668,\n",
       "       14.04895811, 29.08636668, 29.08636668, 29.08636668, 21.56766239,\n",
       "       29.08636668, 14.04895811, 14.04895811, 14.04895811])"
      ]
     },
     "execution_count": 1470,
     "metadata": {},
     "output_type": "execute_result"
    }
   ],
   "source": [
    "# Training a model using the Cylinders feature\n",
    "Features_train, Features_test, Labels_train, Labels_test = train_test_split(Features_scaled[0:,0], Labels, test_size=0.2)\n",
    "SGD_LR.fit(Features_train.reshape(-1,1), Labels_train)\n",
    "Predictions_cylinders = SGD_LR.predict(Features_test.reshape(-1,1))\n",
    "Predictions_cylinders"
   ]
  },
  {
   "cell_type": "code",
   "execution_count": 1471,
   "metadata": {},
   "outputs": [
    {
     "data": {
      "text/plain": [
       "array([21.31720855, 19.82718428, 16.72793381, 29.66134444, 27.63491144,\n",
       "       29.30373862, 29.36333959, 19.35037652, 29.36333959, 16.60873187,\n",
       "       26.38329106, 28.05211824, 13.86708721, 19.82718428, 29.60174347,\n",
       "       29.30373862, 29.66134444, 25.72768038, 19.11197263, 26.38329106,\n",
       "       28.9461328 , 26.14488717, 20.90000175, 21.31720855, 21.31720855,\n",
       "       22.80723282, 27.93291629,  9.15861053, 26.38329106, 26.74089688,\n",
       "       15.77431828, 29.66134444, 28.29052212, 29.66134444, 30.01895027,\n",
       "       26.74089688, 13.86708721, 13.86708721, 19.23117458,  7.60898529,\n",
       "       26.38329106, 30.01895027, 26.38329106, 29.42294056, 30.43615706,\n",
       "       10.88703868, 28.88653183, 26.68129591, 24.41645902, 19.82718428,\n",
       "       26.74089688, 21.31720855, 10.88703868, 29.60174347, 28.88653183,\n",
       "       29.42294056, 13.80748624, 16.72793381, 28.88653183, 27.45610853,\n",
       "       28.9461328 , 28.88653183, 27.45610853, 16.54913089, 28.88653183,\n",
       "       29.66134444, 11.90025518, 28.9461328 , 27.63491144, 26.68129591,\n",
       "       16.60873187, 25.4892765 , 28.46932503,  7.60898529,  8.50299985,\n",
       "       20.90000175, 27.5157095 , 28.9461328 , 29.30373862])"
      ]
     },
     "execution_count": 1471,
     "metadata": {},
     "output_type": "execute_result"
    }
   ],
   "source": [
    "# Training a model using the Displacement features\n",
    "Features_train, Features_test, Labels_train, Labels_test = train_test_split(Features_scaled[0:,1], Labels, test_size=0.2)\n",
    "SGD_LR.fit(Features_train.reshape(-1,1), Labels_train)\n",
    "Predictions_displacement = SGD_LR.predict(Features_test.reshape(-1,1))\n",
    "Predictions_displacement"
   ]
  },
  {
   "cell_type": "code",
   "execution_count": 1472,
   "metadata": {},
   "outputs": [
    {
     "data": {
      "text/plain": [
       "array([24.23227171, 24.23227171,  4.39674769, 22.24871931, 25.05875188,\n",
       "       15.63687797, 16.7939502 , 24.72815981, 26.54641618, 25.05875188,\n",
       "       17.2898383 , 27.04230428, 24.72815981, 27.04230428, 29.68704082,\n",
       "       28.86056065, 30.01763289, 29.68704082, 29.19115272, 26.71171221,\n",
       "       28.36467255, 27.86878445, 12.66154936, 23.40579154, 26.87700825,\n",
       "       26.71171221, 24.72815981, 29.68704082, 27.53819238, 25.88523205,\n",
       "       12.66154936, 26.54641618, 17.7857264 , 25.05875188, 20.92635104,\n",
       "       24.72815981, 25.05875188, 30.18292892, 28.36467255, 28.86056065,\n",
       "       31.83588925, 20.92635104, 28.36467255, 28.52996858,  2.74378735,\n",
       "       19.27339071, 22.57931138, 26.54641618, 22.57931138, 28.36467255,\n",
       "       25.22404791, 27.70348842, 18.94279864, 24.72815981, 29.19115272,\n",
       "       28.19937652, 27.53819238, 29.02585668, 23.40579154, 11.00858903,\n",
       "       30.01763289, 25.55463998, 17.62043037,  6.04970802, 15.96747003,\n",
       "       23.40579154, 11.00858903, 24.23227171,  8.03326042, 24.23227171,\n",
       "       20.09987087,  8.85974059, 11.8350692 , 27.04230428, 25.38934395,\n",
       "       23.40579154, 25.88523205, 29.85233685, 15.47158193])"
      ]
     },
     "execution_count": 1472,
     "metadata": {},
     "output_type": "execute_result"
    }
   ],
   "source": [
    "# Training a model using the horsepower feature\n",
    "Features_train, Features_test, Labels_train, Labels_test = train_test_split(Features_scaled[0:,2], Labels, test_size=0.2)\n",
    "SGD_LR.fit(Features_train.reshape(-1,1), Labels_train)\n",
    "Predictions_horsepower = SGD_LR.predict(Features_test.reshape(-1,1))\n",
    "Predictions_horsepower"
   ]
  },
  {
   "cell_type": "code",
   "execution_count": 1473,
   "metadata": {},
   "outputs": [
    {
     "data": {
      "text/plain": [
       "array([31.52943151, 26.969836  , 26.480215  , 23.0681687 , 26.93923469,\n",
       "       29.92286262, 24.26161987, 27.78077077, 31.36112429, 29.96111426,\n",
       "       16.72604676, 17.68233776, 22.16542999, 12.70197421, 25.75343384,\n",
       "       29.92286262, 18.29436401, 12.21235322, 18.08780515, 31.26167003,\n",
       "       23.8867538 ,  9.97845743, 26.02119532, 25.37091744, 16.28997806,\n",
       "       13.32165078, 25.21791088, 33.83983058,  8.29538526, 15.16537984,\n",
       "       30.72614707, 19.93918453, 19.97743617, 26.73267583, 29.76985606,\n",
       "       20.09219109, 18.48562221, 32.21796103, 26.35015943, 29.73160442,\n",
       "       13.89542538, 32.44747087,  6.85712359, 21.61460637, 31.45292823,\n",
       "       13.93367702, 31.03216019, 30.99390855, 32.40921923, 27.75781979,\n",
       "       23.99385839, 29.4255913 , 12.08994797, 21.46925014, 10.57518302,\n",
       "       28.7447121 , 20.43645586, 25.82993712, 29.57094753, 14.98942229,\n",
       "       27.55891126, 29.88461098, 30.31302935, 29.77750639, 25.37091744,\n",
       "       29.69335278, 18.56977581, 32.02670283, 24.83539448, 28.8518167 ,\n",
       "        7.9511205 , 16.87905332, 29.93051295, 29.88461098, 27.75781979,\n",
       "       22.57089738, 29.19608146, 18.14900777, 19.87033158])"
      ]
     },
     "execution_count": 1473,
     "metadata": {},
     "output_type": "execute_result"
    }
   ],
   "source": [
    "# Training a model using the weight feature\n",
    "Features_train, Features_test, Labels_train, Labels_test = train_test_split(Features_scaled[0:,3], Labels, test_size=0.2)\n",
    "SGD_LR.fit(Features_train.reshape(-1,1), Labels_train)\n",
    "Predictions_weight = SGD_LR.predict(Features_test.reshape(-1,1))\n",
    "Predictions_weight"
   ]
  },
  {
   "cell_type": "code",
   "execution_count": 1474,
   "metadata": {},
   "outputs": [
    {
     "data": {
      "text/plain": [
       "array([22.21849602, 27.8769309 , 25.90305827, 30.50876108, 21.56053847,\n",
       "       19.84984886, 26.16624129, 18.66552528, 22.61327055, 27.21897336,\n",
       "       27.21897336, 22.61327055, 23.53441111, 35.2460554 , 23.27122809,\n",
       "       21.16576395, 21.03417244, 24.58714318, 21.955313  , 18.9287083 ,\n",
       "       27.8769309 , 17.34961019, 21.955313  , 26.03464978, 16.69165265,\n",
       "       23.79759413, 28.66647995, 23.92918563, 33.7985488 , 18.00756773,\n",
       "       25.24510072, 28.53488845, 24.45555167, 18.00756773, 23.27122809,\n",
       "       24.19236865, 17.34961019, 25.11350921, 19.98144037, 16.0336951 ,\n",
       "       18.00756773, 22.48167904, 23.27122809, 25.24510072, 23.27122809,\n",
       "       17.74438472, 25.24510072, 25.24510072, 23.92918563, 22.87645356,\n",
       "       25.90305827, 20.63939791, 25.63987525, 19.98144037, 21.955313  ,\n",
       "       21.82372149, 24.58714318, 30.50876108, 23.92918563, 26.95579034,\n",
       "       30.50876108, 25.90305827, 23.00804507, 23.27122809, 21.29735546,\n",
       "       26.56101581, 24.71873469, 20.63939791, 23.53441111, 23.4028196 ,\n",
       "       28.53488845, 25.24510072, 23.92918563, 19.98144037, 23.92918563,\n",
       "       17.34961019, 21.955313  , 19.98144037, 25.11350921])"
      ]
     },
     "execution_count": 1474,
     "metadata": {},
     "output_type": "execute_result"
    }
   ],
   "source": [
    "# Training a model using the acceleration feature\n",
    "Features_train, Features_test, Labels_train, Labels_test = train_test_split(Features_scaled[0:,4], Labels, test_size=0.2)\n",
    "SGD_LR.fit(Features_train.reshape(-1,1), Labels_train)\n",
    "Predictions_acceleration = SGD_LR.predict(Features_test.reshape(-1,1))\n",
    "Predictions_acceleration"
   ]
  },
  {
   "cell_type": "code",
   "execution_count": 1475,
   "metadata": {},
   "outputs": [
    {
     "data": {
      "text/plain": [
       "array([26.8720997 , 25.6672935 , 22.05287491, 17.23365013, 29.28171209,\n",
       "       23.25768111, 26.8720997 , 20.84806872, 17.23365013, 19.64326252,\n",
       "       20.84806872, 20.84806872, 30.48651829, 30.48651829, 19.64326252,\n",
       "       28.0769059 , 29.28171209, 24.46248731, 16.02884393, 17.23365013,\n",
       "       17.23365013, 18.43845632, 17.23365013, 23.25768111, 29.28171209,\n",
       "       25.6672935 , 22.05287491, 18.43845632, 19.64326252, 30.48651829,\n",
       "       25.6672935 , 30.48651829, 23.25768111, 17.23365013, 28.0769059 ,\n",
       "       24.46248731, 30.48651829, 23.25768111, 23.25768111, 23.25768111,\n",
       "       24.46248731, 28.0769059 , 18.43845632, 28.0769059 , 29.28171209,\n",
       "       24.46248731, 20.84806872, 26.8720997 , 25.6672935 , 28.0769059 ,\n",
       "       29.28171209, 16.02884393, 16.02884393, 19.64326252, 29.28171209,\n",
       "       20.84806872, 23.25768111, 19.64326252, 20.84806872, 25.6672935 ,\n",
       "       23.25768111, 17.23365013, 28.0769059 , 18.43845632, 29.28171209,\n",
       "       30.48651829, 24.46248731, 18.43845632, 20.84806872, 25.6672935 ,\n",
       "       30.48651829, 29.28171209, 16.02884393, 26.8720997 , 17.23365013,\n",
       "       29.28171209, 16.02884393, 19.64326252, 18.43845632])"
      ]
     },
     "execution_count": 1475,
     "metadata": {},
     "output_type": "execute_result"
    }
   ],
   "source": [
    "# Training a model using the model_year feature\n",
    "Features_train, Features_test, Labels_train, Labels_test = train_test_split(Features_scaled[0:,5], Labels, test_size=0.2)\n",
    "SGD_LR.fit(Features_train.reshape(-1,1), Labels_train)\n",
    "Predictions_model_year = SGD_LR.predict(Features_test.reshape(-1,1))\n",
    "Predictions_model_year"
   ]
  },
  {
   "cell_type": "code",
   "execution_count": 1476,
   "metadata": {},
   "outputs": [
    {
     "data": {
      "text/plain": [
       "array([20.43658127, 31.5187593 , 20.43658127, 31.5187593 , 31.5187593 ,\n",
       "       20.43658127, 31.5187593 , 20.43658127, 31.5187593 , 20.43658127,\n",
       "       25.97767029, 31.5187593 , 20.43658127, 31.5187593 , 20.43658127,\n",
       "       25.97767029, 20.43658127, 20.43658127, 20.43658127, 20.43658127,\n",
       "       20.43658127, 20.43658127, 20.43658127, 25.97767029, 20.43658127,\n",
       "       20.43658127, 25.97767029, 25.97767029, 25.97767029, 20.43658127,\n",
       "       20.43658127, 31.5187593 , 20.43658127, 31.5187593 , 31.5187593 ,\n",
       "       25.97767029, 20.43658127, 20.43658127, 20.43658127, 31.5187593 ,\n",
       "       20.43658127, 20.43658127, 20.43658127, 20.43658127, 20.43658127,\n",
       "       31.5187593 , 20.43658127, 20.43658127, 20.43658127, 20.43658127,\n",
       "       20.43658127, 25.97767029, 31.5187593 , 20.43658127, 31.5187593 ,\n",
       "       25.97767029, 20.43658127, 25.97767029, 20.43658127, 20.43658127,\n",
       "       25.97767029, 31.5187593 , 25.97767029, 25.97767029, 20.43658127,\n",
       "       20.43658127, 20.43658127, 31.5187593 , 20.43658127, 20.43658127,\n",
       "       20.43658127, 25.97767029, 20.43658127, 20.43658127, 20.43658127,\n",
       "       20.43658127, 20.43658127, 20.43658127, 20.43658127])"
      ]
     },
     "execution_count": 1476,
     "metadata": {},
     "output_type": "execute_result"
    }
   ],
   "source": [
    "# Training a model using the origin feature\n",
    "Features_train, Features_test, Labels_train, Labels_test = train_test_split(Features_scaled[0:,6], Labels, test_size=0.2)\n",
    "SGD_LR.fit(Features_train.reshape(-1,1), Labels_train)\n",
    "Predictions_origin = SGD_LR.predict(Features_test.reshape(-1,1))\n",
    "Predictions_origin"
   ]
  },
  {
   "cell_type": "markdown",
   "metadata": {},
   "source": [
    "## Then, train a model using all the features altogether."
   ]
  },
  {
   "cell_type": "code",
   "execution_count": 1477,
   "metadata": {},
   "outputs": [
    {
     "data": {
      "text/plain": [
       "SGDRegressor(alpha=0.0001, average=False, early_stopping=False, epsilon=0.1,\n",
       "       eta0=0.01, fit_intercept=True, l1_ratio=0.15,\n",
       "       learning_rate='invscaling', loss='squared_loss', max_iter=500,\n",
       "       n_iter=None, n_iter_no_change=5, penalty='l2', power_t=0.25,\n",
       "       random_state=None, shuffle=True, tol=None, validation_fraction=0.1,\n",
       "       verbose=0, warm_start=False)"
      ]
     },
     "execution_count": 1477,
     "metadata": {},
     "output_type": "execute_result"
    }
   ],
   "source": [
    "Features_train, Features_test, Labels_train, Labels_test = train_test_split(Features_scaled, Labels, test_size=0.2)\n",
    "SGD_LR.fit(Features_train, Labels_train)"
   ]
  },
  {
   "cell_type": "markdown",
   "metadata": {},
   "source": [
    "### For each of the models trained in step 8, apply the model to the test subset and then compute the r2_score, the mean_squared_error, and the mean_absolute_error scores for the predictions of each model trained above. "
   ]
  },
  {
   "cell_type": "code",
   "execution_count": 1478,
   "metadata": {},
   "outputs": [
    {
     "data": {
      "text/plain": [
       "array([24.6253944 , 30.25942991, 26.91710792, 20.63601815, 18.74258756,\n",
       "       24.94962291, 27.37921893, 30.63020589, 26.15751   , 35.12602795,\n",
       "       33.80743075, 16.76377292, 22.15008457, 26.18367181, 34.21585355,\n",
       "       12.36910191, 32.05426664, 11.89569763, 21.10274917, 20.65076748,\n",
       "        8.9939726 , 23.9568542 , 19.78197332, 26.09438273, 21.83348921,\n",
       "       36.21104982, 25.37327752, 22.78704365, 21.69162446, 30.53569975,\n",
       "       19.54076252, 21.93970512, 20.04995698, 22.97638489, 15.8924577 ,\n",
       "       14.85827283, 25.26036323, 25.37333042, 24.06462648, 33.80661825,\n",
       "       26.9609531 , 33.53921317, 29.81011124, 12.48800605, 14.70035996,\n",
       "       27.79464038, 17.06725965, 23.75429805, 28.91568244, 30.91964373,\n",
       "       24.8978052 , 30.22706269, 29.67128611, 28.76753762, 17.34294921,\n",
       "       26.27286568, 23.15252242, 26.55012893, 12.47711067, 32.3429808 ,\n",
       "       21.16994525, 26.72470478, 31.88778045, 19.84171253, 22.72580275,\n",
       "       25.97925689, 28.93959706, 31.40022026, 26.41943495, 34.29237098,\n",
       "       24.87222036, 17.97468926, 15.81638472, 22.91938788, 24.22688068,\n",
       "       10.9967833 , 19.49783705, 30.01796648, 28.98771626])"
      ]
     },
     "execution_count": 1478,
     "metadata": {},
     "output_type": "execute_result"
    }
   ],
   "source": [
    "# All Features\n",
    "Predictions = SGD_LR.predict(Features_test)\n",
    "Predictions"
   ]
  },
  {
   "cell_type": "code",
   "execution_count": 1479,
   "metadata": {},
   "outputs": [],
   "source": [
    "# importing necessary packages for predicting r2 score, mean squared error and mean absolute error\n",
    "import sklearn.metrics\n",
    "from sklearn.metrics import r2_score\n",
    "from sklearn.metrics import mean_squared_error\n",
    "from sklearn.metrics import mean_absolute_error"
   ]
  },
  {
   "cell_type": "markdown",
   "metadata": {},
   "source": [
    "#### Predictions for Cylinders feature"
   ]
  },
  {
   "cell_type": "code",
   "execution_count": 1480,
   "metadata": {},
   "outputs": [
    {
     "data": {
      "text/plain": [
       "-1.1347688830977511"
      ]
     },
     "execution_count": 1480,
     "metadata": {},
     "output_type": "execute_result"
    }
   ],
   "source": [
    "r2_score(Predictions_cylinders, Labels_test)"
   ]
  },
  {
   "cell_type": "code",
   "execution_count": 1481,
   "metadata": {},
   "outputs": [
    {
     "data": {
      "text/plain": [
       "90.00273853853214"
      ]
     },
     "execution_count": 1481,
     "metadata": {},
     "output_type": "execute_result"
    }
   ],
   "source": [
    "mean_squared_error(Predictions_cylinders, Labels_test)"
   ]
  },
  {
   "cell_type": "code",
   "execution_count": 1482,
   "metadata": {},
   "outputs": [
    {
     "data": {
      "text/plain": [
       "7.856633296435539"
      ]
     },
     "execution_count": 1482,
     "metadata": {},
     "output_type": "execute_result"
    }
   ],
   "source": [
    "mean_absolute_error(Predictions_cylinders, Labels_test)"
   ]
  },
  {
   "cell_type": "markdown",
   "metadata": {},
   "source": [
    "#### Predictions for Displacement feature"
   ]
  },
  {
   "cell_type": "code",
   "execution_count": 1483,
   "metadata": {},
   "outputs": [
    {
     "data": {
      "text/plain": [
       "-1.4532237902071854"
      ]
     },
     "execution_count": 1483,
     "metadata": {},
     "output_type": "execute_result"
    }
   ],
   "source": [
    "r2_score(Predictions_displacement, Labels_test)"
   ]
  },
  {
   "cell_type": "code",
   "execution_count": 1484,
   "metadata": {},
   "outputs": [
    {
     "data": {
      "text/plain": [
       "104.4102243708912"
      ]
     },
     "execution_count": 1484,
     "metadata": {},
     "output_type": "execute_result"
    }
   ],
   "source": [
    "mean_squared_error(Predictions_displacement, Labels_test)"
   ]
  },
  {
   "cell_type": "code",
   "execution_count": 1485,
   "metadata": {},
   "outputs": [
    {
     "data": {
      "text/plain": [
       "8.294675950369273"
      ]
     },
     "execution_count": 1485,
     "metadata": {},
     "output_type": "execute_result"
    }
   ],
   "source": [
    "mean_absolute_error(Predictions_displacement, Labels_test)"
   ]
  },
  {
   "cell_type": "markdown",
   "metadata": {},
   "source": [
    "#### Predictions for Horespower feature"
   ]
  },
  {
   "cell_type": "code",
   "execution_count": 1486,
   "metadata": {},
   "outputs": [
    {
     "data": {
      "text/plain": [
       "-0.9172616551586634"
      ]
     },
     "execution_count": 1486,
     "metadata": {},
     "output_type": "execute_result"
    }
   ],
   "source": [
    "r2_score(Predictions_horsepower, Labels_test)"
   ]
  },
  {
   "cell_type": "code",
   "execution_count": 1487,
   "metadata": {},
   "outputs": [
    {
     "data": {
      "text/plain": [
       "84.49135473489217"
      ]
     },
     "execution_count": 1487,
     "metadata": {},
     "output_type": "execute_result"
    }
   ],
   "source": [
    "mean_squared_error(Predictions_horsepower, Labels_test)"
   ]
  },
  {
   "cell_type": "code",
   "execution_count": 1488,
   "metadata": {},
   "outputs": [
    {
     "data": {
      "text/plain": [
       "7.298304472706338"
      ]
     },
     "execution_count": 1488,
     "metadata": {},
     "output_type": "execute_result"
    }
   ],
   "source": [
    "mean_absolute_error(Predictions_horsepower, Labels_test)"
   ]
  },
  {
   "cell_type": "markdown",
   "metadata": {},
   "source": [
    "#### Predictions for Weight feature"
   ]
  },
  {
   "cell_type": "code",
   "execution_count": 1489,
   "metadata": {},
   "outputs": [
    {
     "data": {
      "text/plain": [
       "-0.7776543955573203"
      ]
     },
     "execution_count": 1489,
     "metadata": {},
     "output_type": "execute_result"
    }
   ],
   "source": [
    "r2_score(Predictions_weight, Labels_test)"
   ]
  },
  {
   "cell_type": "code",
   "execution_count": 1490,
   "metadata": {},
   "outputs": [
    {
     "data": {
      "text/plain": [
       "87.11591302359346"
      ]
     },
     "execution_count": 1490,
     "metadata": {},
     "output_type": "execute_result"
    }
   ],
   "source": [
    "mean_squared_error(Predictions_weight, Labels_test)"
   ]
  },
  {
   "cell_type": "code",
   "execution_count": 1491,
   "metadata": {},
   "outputs": [
    {
     "data": {
      "text/plain": [
       "7.553588045500556"
      ]
     },
     "execution_count": 1491,
     "metadata": {},
     "output_type": "execute_result"
    }
   ],
   "source": [
    "mean_absolute_error(Predictions_weight, Labels_test)"
   ]
  },
  {
   "cell_type": "markdown",
   "metadata": {},
   "source": [
    "#### Predictions for Acceleration feature"
   ]
  },
  {
   "cell_type": "code",
   "execution_count": 1492,
   "metadata": {},
   "outputs": [
    {
     "data": {
      "text/plain": [
       "-3.970531312926516"
      ]
     },
     "execution_count": 1492,
     "metadata": {},
     "output_type": "execute_result"
    }
   ],
   "source": [
    "r2_score(Predictions_acceleration, Labels_test)"
   ]
  },
  {
   "cell_type": "code",
   "execution_count": 1493,
   "metadata": {},
   "outputs": [
    {
     "data": {
      "text/plain": [
       "70.36357287681457"
      ]
     },
     "execution_count": 1493,
     "metadata": {},
     "output_type": "execute_result"
    }
   ],
   "source": [
    "mean_squared_error(Predictions_acceleration, Labels_test)"
   ]
  },
  {
   "cell_type": "code",
   "execution_count": 1494,
   "metadata": {},
   "outputs": [
    {
     "data": {
      "text/plain": [
       "6.975210886390771"
      ]
     },
     "execution_count": 1494,
     "metadata": {},
     "output_type": "execute_result"
    }
   ],
   "source": [
    "mean_absolute_error(Predictions_acceleration, Labels_test)"
   ]
  },
  {
   "cell_type": "markdown",
   "metadata": {},
   "source": [
    "#### Predictions for model_year feature"
   ]
  },
  {
   "cell_type": "code",
   "execution_count": 1495,
   "metadata": {},
   "outputs": [
    {
     "data": {
      "text/plain": [
       "-2.1385878609966316"
      ]
     },
     "execution_count": 1495,
     "metadata": {},
     "output_type": "execute_result"
    }
   ],
   "source": [
    "r2_score(Predictions_model_year, Labels_test)"
   ]
  },
  {
   "cell_type": "code",
   "execution_count": 1496,
   "metadata": {},
   "outputs": [
    {
     "data": {
      "text/plain": [
       "68.98221102252025"
      ]
     },
     "execution_count": 1496,
     "metadata": {},
     "output_type": "execute_result"
    }
   ],
   "source": [
    "mean_squared_error(Predictions_model_year, Labels_test)"
   ]
  },
  {
   "cell_type": "code",
   "execution_count": 1497,
   "metadata": {},
   "outputs": [
    {
     "data": {
      "text/plain": [
       "6.98373653708928"
      ]
     },
     "execution_count": 1497,
     "metadata": {},
     "output_type": "execute_result"
    }
   ],
   "source": [
    "mean_absolute_error(Predictions_model_year, Labels_test)"
   ]
  },
  {
   "cell_type": "markdown",
   "metadata": {},
   "source": [
    "#### Predictions for Origin feature"
   ]
  },
  {
   "cell_type": "code",
   "execution_count": 1498,
   "metadata": {},
   "outputs": [
    {
     "data": {
      "text/plain": [
       "-2.6016069320153687"
      ]
     },
     "execution_count": 1498,
     "metadata": {},
     "output_type": "execute_result"
    }
   ],
   "source": [
    "r2_score(Predictions_origin, Labels_test)"
   ]
  },
  {
   "cell_type": "code",
   "execution_count": 1499,
   "metadata": {},
   "outputs": [
    {
     "data": {
      "text/plain": [
       "71.6899476502597"
      ]
     },
     "execution_count": 1499,
     "metadata": {},
     "output_type": "execute_result"
    }
   ],
   "source": [
    "mean_squared_error(Predictions_origin, Labels_test)"
   ]
  },
  {
   "cell_type": "code",
   "execution_count": 1500,
   "metadata": {},
   "outputs": [
    {
     "data": {
      "text/plain": [
       "6.803387165139355"
      ]
     },
     "execution_count": 1500,
     "metadata": {},
     "output_type": "execute_result"
    }
   ],
   "source": [
    "mean_absolute_error(Predictions_origin, Labels_test)"
   ]
  },
  {
   "cell_type": "markdown",
   "metadata": {},
   "source": [
    "#### Predictions for all features"
   ]
  },
  {
   "cell_type": "code",
   "execution_count": 1501,
   "metadata": {},
   "outputs": [
    {
     "data": {
      "text/plain": [
       "0.69392238598212"
      ]
     },
     "execution_count": 1501,
     "metadata": {},
     "output_type": "execute_result"
    }
   ],
   "source": [
    "r2_score(Predictions, Labels_test)"
   ]
  },
  {
   "cell_type": "code",
   "execution_count": 1502,
   "metadata": {},
   "outputs": [
    {
     "data": {
      "text/plain": [
       "12.09568797693087"
      ]
     },
     "execution_count": 1502,
     "metadata": {},
     "output_type": "execute_result"
    }
   ],
   "source": [
    "mean_squared_error(Predictions, Labels_test)"
   ]
  },
  {
   "cell_type": "code",
   "execution_count": 1503,
   "metadata": {},
   "outputs": [
    {
     "data": {
      "text/plain": [
       "2.783971820756686"
      ]
     },
     "execution_count": 1503,
     "metadata": {},
     "output_type": "execute_result"
    }
   ],
   "source": [
    "mean_absolute_error(Predictions, Labels_test)"
   ]
  },
  {
   "cell_type": "markdown",
   "metadata": {},
   "source": [
    "### Train a model using all features for 500 iterations while setting the regularization type (penalty) to ‘l1’ instead of the default ‘l2’. Apply the model to the test data and compute the evaluation metrics as in step 9. "
   ]
  },
  {
   "cell_type": "code",
   "execution_count": 1504,
   "metadata": {},
   "outputs": [],
   "source": [
    "SGD_LR = lm.SGDRegressor(max_iter=500, penalty='l1')\n",
    "SGD_LR.fit(Features_train, Labels_train)\n",
    "Predictions = SGD_LR.predict(Features_test)"
   ]
  },
  {
   "cell_type": "code",
   "execution_count": 1505,
   "metadata": {},
   "outputs": [
    {
     "data": {
      "text/plain": [
       "0.6992181346546378"
      ]
     },
     "execution_count": 1505,
     "metadata": {},
     "output_type": "execute_result"
    }
   ],
   "source": [
    "r2_score(Predictions, Labels_test)"
   ]
  },
  {
   "cell_type": "code",
   "execution_count": 1506,
   "metadata": {},
   "outputs": [
    {
     "data": {
      "text/plain": [
       "12.0960132162687"
      ]
     },
     "execution_count": 1506,
     "metadata": {},
     "output_type": "execute_result"
    }
   ],
   "source": [
    "mean_squared_error(Predictions, Labels_test)"
   ]
  },
  {
   "cell_type": "code",
   "execution_count": 1507,
   "metadata": {},
   "outputs": [
    {
     "data": {
      "text/plain": [
       "2.7913071712825563"
      ]
     },
     "execution_count": 1507,
     "metadata": {},
     "output_type": "execute_result"
    }
   ],
   "source": [
    "mean_absolute_error(Predictions, Labels_test)"
   ]
  },
  {
   "cell_type": "markdown",
   "metadata": {},
   "source": [
    "### Train a model using all features for 500 iterations with ‘l2’ regularization and an initial learning rate (eta0) set to 10.0. Compute the evaluation metrics as in step 9. "
   ]
  },
  {
   "cell_type": "code",
   "execution_count": 1508,
   "metadata": {},
   "outputs": [],
   "source": [
    "SGD_LR = lm.SGDRegressor(max_iter=500, penalty='l2', eta0=10.0)\n",
    "SGD_LR.fit(Features_train, Labels_train)\n",
    "Predictions = SGD_LR.predict(Features_test)"
   ]
  },
  {
   "cell_type": "code",
   "execution_count": 1509,
   "metadata": {},
   "outputs": [
    {
     "data": {
      "text/plain": [
       "-0.16774533398568048"
      ]
     },
     "execution_count": 1509,
     "metadata": {},
     "output_type": "execute_result"
    }
   ],
   "source": [
    "r2_score(Predictions, Labels_test)"
   ]
  },
  {
   "cell_type": "code",
   "execution_count": 1510,
   "metadata": {},
   "outputs": [
    {
     "data": {
      "text/plain": [
       "1.0083308424368083e+24"
      ]
     },
     "execution_count": 1510,
     "metadata": {},
     "output_type": "execute_result"
    }
   ],
   "source": [
    "mean_squared_error(Predictions, Labels_test)"
   ]
  },
  {
   "cell_type": "code",
   "execution_count": 1511,
   "metadata": {},
   "outputs": [
    {
     "data": {
      "text/plain": [
       "788314716528.1871"
      ]
     },
     "execution_count": 1511,
     "metadata": {},
     "output_type": "execute_result"
    }
   ],
   "source": [
    "mean_absolute_error(Predictions, Labels_test)"
   ]
  }
 ],
 "metadata": {
  "kernelspec": {
   "display_name": "Python 3",
   "language": "python",
   "name": "python3"
  },
  "language_info": {
   "codemirror_mode": {
    "name": "ipython",
    "version": 3
   },
   "file_extension": ".py",
   "mimetype": "text/x-python",
   "name": "python",
   "nbconvert_exporter": "python",
   "pygments_lexer": "ipython3",
   "version": "3.7.3"
  }
 },
 "nbformat": 4,
 "nbformat_minor": 2
}
